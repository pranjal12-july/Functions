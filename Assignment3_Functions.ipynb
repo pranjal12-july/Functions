{
  "nbformat": 4,
  "nbformat_minor": 0,
  "metadata": {
    "colab": {
      "provenance": []
    },
    "kernelspec": {
      "name": "python3",
      "display_name": "Python 3"
    },
    "language_info": {
      "name": "python"
    }
  },
  "cells": [
    {
      "cell_type": "markdown",
      "source": [
        "Question 1. What is the difference between a function and a method in Python?\n",
        "\n",
        "Answer:\n",
        "Function: A function is a block of reusable code that is not bound to any object. It can be called directly.\n",
        "\n",
        "Example:\n",
        "def greet(name):\n",
        "    return f\"Hello, {name}!\"\n",
        "print(greet(\"Pranjal\"))\n",
        "\n",
        "Method: A method is a function that is associated with an object and can operate on data contained in that object.\n",
        "\n",
        "Example:\n",
        "class Greeter:\n",
        "    def greet(self, name):\n",
        "        return f\"Hello, {name}!\"\n",
        "greeter = Greeter()\n",
        "print(greeter.greet(\"Alice\"))"
      ],
      "metadata": {
        "id": "0Y49VX3mTQ04"
      }
    },
    {
      "cell_type": "markdown",
      "source": [
        "Question 2. Explain the concept of function arguments and parameters in Python.\n",
        "\n",
        "Answer:\n",
        "Parameters: Variables defined in the function definition.\n",
        "Example: name in def greet(name):.\n",
        "\n",
        "Arguments: Values passed to the function when it is called.\n",
        "\n",
        "Example: \"Pranjal\" in greet(\"Pranjal\").\n"
      ],
      "metadata": {
        "id": "esawu0KhTVza"
      }
    },
    {
      "cell_type": "markdown",
      "source": [
        "Question 3: What are the different ways to define and call a function in Python?\n",
        "\n",
        "Answer:\n",
        "Defining a function: Using the def keyword.\n",
        "\n",
        "Example:\n",
        "def add(a, b):\n",
        "    return a + b\n",
        "\n",
        "Calling a function: Using its name followed by parentheses.\n",
        "\n",
        "Example:\n",
        "result = add(2, 3)\n",
        "print(result)\n"
      ],
      "metadata": {
        "id": "Ontpkf7mT4oR"
      }
    },
    {
      "cell_type": "markdown",
      "source": [
        "Quesion 4: What is the purpose of the return statement in a Python function?\n",
        "\n",
        "Answer:\n",
        "The return statement is used to send the result of a function back to the caller.\n",
        "\n",
        "Example:"
      ],
      "metadata": {
        "id": "Gn_0N2rnUdxr"
      }
    },
    {
      "cell_type": "code",
      "source": [
        "def square(num):\n",
        "    return num ** 2\n",
        "print(square(4))"
      ],
      "metadata": {
        "colab": {
          "base_uri": "https://localhost:8080/"
        },
        "id": "Jf8Ze9OTVRVf",
        "outputId": "b7fca6c4-02eb-4854-a2e3-0be8170a5f20"
      },
      "execution_count": null,
      "outputs": [
        {
          "output_type": "stream",
          "name": "stdout",
          "text": [
            "16\n"
          ]
        }
      ]
    },
    {
      "cell_type": "markdown",
      "source": [
        "Question 5. What are iterators in Python and how do they differ from iterables?\n",
        "\n",
        "Answer:\n",
        "Iterator: An object that represents a stream of data and can be iterated upon using __next__().\n",
        "\n",
        "Example:\n"
      ],
      "metadata": {
        "id": "MW6idKX8VfED"
      }
    },
    {
      "cell_type": "code",
      "source": [
        "\n",
        "nums = iter([1, 2, 3])\n",
        "print(next(nums))"
      ],
      "metadata": {
        "colab": {
          "base_uri": "https://localhost:8080/"
        },
        "id": "ZIzH41YKVpq8",
        "outputId": "ecc50728-327e-4322-dbde-44b31e9318df"
      },
      "execution_count": null,
      "outputs": [
        {
          "output_type": "stream",
          "name": "stdout",
          "text": [
            "1\n"
          ]
        }
      ]
    },
    {
      "cell_type": "markdown",
      "source": [
        "Iterable: An object capable of returning its members one at a time, e.g., lists or strings.\n",
        "\n",
        "Example:\n"
      ],
      "metadata": {
        "id": "9C-xVGccVuzb"
      }
    },
    {
      "cell_type": "code",
      "source": [
        "\n",
        "for char in \"hello\":\n",
        "    print(char)\n"
      ],
      "metadata": {
        "colab": {
          "base_uri": "https://localhost:8080/"
        },
        "id": "-M_M5wMbVxnU",
        "outputId": "ede5a5b4-4dcd-4f79-d3c3-8218cbfb4546"
      },
      "execution_count": null,
      "outputs": [
        {
          "output_type": "stream",
          "name": "stdout",
          "text": [
            "h\n",
            "e\n",
            "l\n",
            "l\n",
            "o\n"
          ]
        }
      ]
    },
    {
      "cell_type": "markdown",
      "source": [
        "Question 6. Explain the concept of generators in Python and how they are defined.\n",
        "\n",
        "\n",
        "Answer:\n",
        "\n",
        "Generators are a special type of iterator defined using functions and the yield keyword.\n",
        "\n",
        "Example:\n"
      ],
      "metadata": {
        "id": "OdCEu01_V62d"
      }
    },
    {
      "cell_type": "code",
      "source": [
        "\n",
        "def countdown(n):\n",
        "    while n > 0:\n",
        "        yield n\n",
        "        n -= 1\n",
        "for num in countdown(3):\n",
        "    print(num)"
      ],
      "metadata": {
        "colab": {
          "base_uri": "https://localhost:8080/"
        },
        "id": "hDdI9XavWBtd",
        "outputId": "f60e678f-5b63-40da-e158-c3bddf023274"
      },
      "execution_count": null,
      "outputs": [
        {
          "output_type": "stream",
          "name": "stdout",
          "text": [
            "3\n",
            "2\n",
            "1\n"
          ]
        }
      ]
    },
    {
      "cell_type": "markdown",
      "source": [
        "Question 7. What are the advantages of using generators over regular functions?\n",
        "\n",
        "Answer:\n",
        "\n",
        "Memory efficiency: Generators produce items lazily.\n",
        "\n",
        "Performance: Avoids storing the entire result in memory.\n",
        "\n",
        "Infinite sequences: Suitable for streams or infinite data.\n",
        "\n",
        "Example:\n",
        "\n",
        "def infinite_numbers():\n",
        "    num = 0\n",
        "    while True:\n",
        "        yield num\n",
        "        num += 1"
      ],
      "metadata": {
        "id": "mw23QcBjWHDp"
      }
    },
    {
      "cell_type": "markdown",
      "source": [
        "Question 8. What is a lambda function in Python and when is it typically used?\n",
        "\n",
        "Answer:\n",
        "\n",
        "A lambda function is a small, anonymous function defined using the lambda keyword. It is typically used for short-term, inline operations.\n",
        "\n",
        "Example:\n"
      ],
      "metadata": {
        "id": "Ho4-ILtuWV89"
      }
    },
    {
      "cell_type": "code",
      "source": [
        "square = lambda x: x ** 2\n",
        "print(square(5))"
      ],
      "metadata": {
        "colab": {
          "base_uri": "https://localhost:8080/"
        },
        "id": "HpQVbh0zWiHg",
        "outputId": "5e5f73c5-f96f-4826-f58b-2476b8c34fc4"
      },
      "execution_count": null,
      "outputs": [
        {
          "output_type": "stream",
          "name": "stdout",
          "text": [
            "25\n"
          ]
        }
      ]
    },
    {
      "cell_type": "markdown",
      "source": [
        "Question 9. Explain the purpose and usage of the map() function in Python.\n",
        "\n",
        "Answer:\n",
        "\n",
        "map() applies a given function to each item in an iterable and returns an iterator.\n",
        "\n",
        "Example:"
      ],
      "metadata": {
        "id": "14P9jGFLWk4U"
      }
    },
    {
      "cell_type": "code",
      "source": [
        "nums = [1, 2, 3]\n",
        "squared = map(lambda x: x ** 2, nums)\n",
        "print(list(squared))"
      ],
      "metadata": {
        "colab": {
          "base_uri": "https://localhost:8080/"
        },
        "id": "IBhn_paoWqLJ",
        "outputId": "779b1da7-17c4-49db-adb2-5518046fd94b"
      },
      "execution_count": null,
      "outputs": [
        {
          "output_type": "stream",
          "name": "stdout",
          "text": [
            "[1, 4, 9]\n"
          ]
        }
      ]
    },
    {
      "cell_type": "markdown",
      "source": [
        "Question 10. What is the difference between map(), reduce(), and filter() functions in Python?\n",
        "\n",
        "Answer:\n",
        "\n",
        "map(): Applies a function to each item in an iterable.\n",
        "\n",
        "Example:"
      ],
      "metadata": {
        "id": "ehrYxMaUWw2u"
      }
    },
    {
      "cell_type": "code",
      "source": [
        "nums = [1, 2, 3]\n",
        "print(list(map(lambda x: x * 2, nums)))"
      ],
      "metadata": {
        "colab": {
          "base_uri": "https://localhost:8080/"
        },
        "id": "fgLZNZbOXNVe",
        "outputId": "1abe21c6-9574-419f-b1f1-09b2462e7d80"
      },
      "execution_count": null,
      "outputs": [
        {
          "output_type": "stream",
          "name": "stdout",
          "text": [
            "[2, 4, 6]\n"
          ]
        }
      ]
    },
    {
      "cell_type": "markdown",
      "source": [
        "reduce(): Performs a rolling computation to reduce an iterable to a single value (requires functools).\n",
        "\n",
        "Example:\n"
      ],
      "metadata": {
        "id": "G2IxnRplXZ8e"
      }
    },
    {
      "cell_type": "code",
      "source": [
        "from functools import reduce\n",
        "nums = [1, 2, 3, 4]\n",
        "print(reduce(lambda x, y: x + y, nums))"
      ],
      "metadata": {
        "colab": {
          "base_uri": "https://localhost:8080/"
        },
        "id": "HRDzK5LKXbfI",
        "outputId": "babe0c04-e208-4d69-81fe-b2c31b095a0f"
      },
      "execution_count": null,
      "outputs": [
        {
          "output_type": "stream",
          "name": "stdout",
          "text": [
            "10\n"
          ]
        }
      ]
    },
    {
      "cell_type": "markdown",
      "source": [
        "filter(): Filters items in an iterable based on a condition.\n",
        "\n",
        "Example:"
      ],
      "metadata": {
        "id": "hwaM_H05XvFA"
      }
    },
    {
      "cell_type": "code",
      "source": [
        "nums = [1, 2, 3, 4]\n",
        "print(list(filter(lambda x: x % 2 == 0, nums)))"
      ],
      "metadata": {
        "colab": {
          "base_uri": "https://localhost:8080/"
        },
        "id": "Bee3JTZ8XwQz",
        "outputId": "56008ead-5388-49cd-9a02-41c728e83ccb"
      },
      "execution_count": null,
      "outputs": [
        {
          "output_type": "stream",
          "name": "stdout",
          "text": [
            "[2, 4]\n"
          ]
        }
      ]
    },
    {
      "cell_type": "markdown",
      "source": [
        "**PRACTICAL QUESTIONS**"
      ],
      "metadata": {
        "id": "ckbnT2mOxz1m"
      }
    },
    {
      "cell_type": "markdown",
      "source": [
        "Question 1. Write a Python function that takes a list of numbers as input and returns the sum of all even numbers in\n",
        "the list."
      ],
      "metadata": {
        "id": "HmDmodcUyi7V"
      }
    },
    {
      "cell_type": "code",
      "source": [
        "def sum_of_even_numbers(numbers):\n",
        "    return sum(num for num in numbers if num % 2 == 0)\n",
        "    print(sum_of_evens([1, 2, 3, 4, 5, 6]))"
      ],
      "metadata": {
        "id": "h7jspv8pylrL"
      },
      "execution_count": 4,
      "outputs": []
    },
    {
      "cell_type": "markdown",
      "source": [
        "Question 2. Create a Python function that accepts a string and returns the reverse of that string."
      ],
      "metadata": {
        "id": "oWZq68dvyrlv"
      }
    },
    {
      "cell_type": "code",
      "source": [
        "def reverse_string(s):\n",
        "    return s[::-1]\n",
        "print(reverse_string(\"hello\"))"
      ],
      "metadata": {
        "colab": {
          "base_uri": "https://localhost:8080/"
        },
        "id": "liMkZlQmyuZT",
        "outputId": "84b95ffb-1700-418f-9da7-7183909c0527"
      },
      "execution_count": 3,
      "outputs": [
        {
          "output_type": "stream",
          "name": "stdout",
          "text": [
            "olleh\n"
          ]
        }
      ]
    },
    {
      "cell_type": "markdown",
      "source": [
        "Question 3. Implement a Python function that takes a list of integers and returns a new list containing the squares of\n",
        "each number."
      ],
      "metadata": {
        "id": "AawZ9hl5zcBm"
      }
    },
    {
      "cell_type": "code",
      "source": [
        "def squares_of_list(numbers):\n",
        "    return [num ** 2 for num in numbers]\n",
        "\n",
        "print(squares_of_list([1, 2, 3, 4]))"
      ],
      "metadata": {
        "colab": {
          "base_uri": "https://localhost:8080/"
        },
        "id": "-ZBfN35szhly",
        "outputId": "121f65c9-41f7-43f9-8381-b6a3f781dc55"
      },
      "execution_count": 5,
      "outputs": [
        {
          "output_type": "stream",
          "name": "stdout",
          "text": [
            "[1, 4, 9, 16]\n"
          ]
        }
      ]
    },
    {
      "cell_type": "markdown",
      "source": [
        "Question 4. Write a Python function that checks if a given number is prime or not from 1 to 200."
      ],
      "metadata": {
        "id": "sjQvs6FpzmJY"
      }
    },
    {
      "cell_type": "code",
      "source": [
        "def is_prime(num):\n",
        "    if num <= 1:\n",
        "        return False\n",
        "    for i in range(2, int(num ** 0.5) + 1):\n",
        "        if num % i == 0:\n",
        "            return False\n",
        "    return True\n",
        "print([num for num in range(1, 201) if is_prime(num)])"
      ],
      "metadata": {
        "colab": {
          "base_uri": "https://localhost:8080/"
        },
        "id": "lZfF5S81zuBz",
        "outputId": "001395e5-3b2a-47ba-b9f0-d16fc6ec6f11"
      },
      "execution_count": 6,
      "outputs": [
        {
          "output_type": "stream",
          "name": "stdout",
          "text": [
            "[2, 3, 5, 7, 11, 13, 17, 19, 23, 29, 31, 37, 41, 43, 47, 53, 59, 61, 67, 71, 73, 79, 83, 89, 97, 101, 103, 107, 109, 113, 127, 131, 137, 139, 149, 151, 157, 163, 167, 173, 179, 181, 191, 193, 197, 199]\n"
          ]
        }
      ]
    },
    {
      "cell_type": "markdown",
      "source": [
        "Question 5. Create an iterator class in Python that generates the Fibonacci sequence up to a specified number of\n",
        "terms."
      ],
      "metadata": {
        "id": "4cTZkKLez0Dr"
      }
    },
    {
      "cell_type": "code",
      "source": [
        "class Fibonacci:\n",
        "    def __init__(self, n_terms):\n",
        "        self.n_terms = n_terms\n",
        "        self.a, self.b = 0, 1\n",
        "        self.count = 0\n",
        "\n",
        "    def __iter__(self):\n",
        "        return self\n",
        "\n",
        "    def __next__(self):\n",
        "        if self.count >= self.n_terms:\n",
        "            raise StopIteration\n",
        "        current = self.a\n",
        "        self.a, self.b = self.b, self.a + self.b\n",
        "        self.count += 1\n",
        "        return current\n",
        "for num in Fibonacci(10):\n",
        "    print(num, end=\" \")"
      ],
      "metadata": {
        "colab": {
          "base_uri": "https://localhost:8080/"
        },
        "id": "ZPhcx_X8z6TN",
        "outputId": "adb47c4d-d859-4ec4-e8af-0e93f1702cf4"
      },
      "execution_count": 7,
      "outputs": [
        {
          "output_type": "stream",
          "name": "stdout",
          "text": [
            "0 1 1 2 3 5 8 13 21 34 "
          ]
        }
      ]
    },
    {
      "cell_type": "markdown",
      "source": [
        "Question 6. Write a generator function in Python that yields the powers of 2 up to a given exponent."
      ],
      "metadata": {
        "id": "nMY1rvKa0EgT"
      }
    },
    {
      "cell_type": "code",
      "source": [
        "def powers_of_two(exponent):\n",
        "    for i in range(exponent + 1):\n",
        "        yield 2 ** i\n",
        "for power in powers_of_two(5):\n",
        "    print(power, end=\" \")"
      ],
      "metadata": {
        "colab": {
          "base_uri": "https://localhost:8080/"
        },
        "id": "JzwlxXhJ0NLp",
        "outputId": "a0330048-cb05-4c9a-da37-371caa6b0733"
      },
      "execution_count": 8,
      "outputs": [
        {
          "output_type": "stream",
          "name": "stdout",
          "text": [
            "1 2 4 8 16 32 "
          ]
        }
      ]
    },
    {
      "cell_type": "markdown",
      "source": [
        "Question 7. Implement a generator function that reads a file line by line and yields each line as a string"
      ],
      "metadata": {
        "id": "qtNcsInz0TQu"
      }
    },
    {
      "cell_type": "code",
      "source": [
        "def read_file_line_by_line(file_path):\n",
        "    with open(file_path, 'r') as file:\n",
        "        for line in file:\n",
        "            yield line.strip()"
      ],
      "metadata": {
        "id": "gtbTFcGM0Wyk"
      },
      "execution_count": 9,
      "outputs": []
    },
    {
      "cell_type": "markdown",
      "source": [
        "Question 8. Use a lambda function in Python to sort a list of tuples based on the second element of each tuple."
      ],
      "metadata": {
        "id": "AYEaY9pZ0cx7"
      }
    },
    {
      "cell_type": "code",
      "source": [
        "tuples_list = [(1, 3), (4, 1), (2, 2), (3, 0)]\n",
        "sorted_list = sorted(tuples_list, key=lambda x: x[1])\n",
        "print(sorted_list)"
      ],
      "metadata": {
        "colab": {
          "base_uri": "https://localhost:8080/"
        },
        "id": "nkFpLsXJ0gVs",
        "outputId": "413afc40-ba16-42c2-d166-187b5026b9fa"
      },
      "execution_count": 10,
      "outputs": [
        {
          "output_type": "stream",
          "name": "stdout",
          "text": [
            "[(3, 0), (4, 1), (2, 2), (1, 3)]\n"
          ]
        }
      ]
    },
    {
      "cell_type": "markdown",
      "source": [
        "Question 9. Write a Python program that uses `map()` to convert a list of temperatures from Celsius to Fahrenheit."
      ],
      "metadata": {
        "id": "-L6sUIJJ0kV2"
      }
    },
    {
      "cell_type": "code",
      "source": [
        "def celsius_to_fahrenheit(celsius_list):\n",
        "    return list(map(lambda c: (c * 9/5) + 32, celsius_list))\n",
        "\n",
        "print(celsius_to_fahrenheit([0, 20, 30]))"
      ],
      "metadata": {
        "colab": {
          "base_uri": "https://localhost:8080/"
        },
        "id": "lCEugVgZ01ce",
        "outputId": "cf99368e-77c0-4812-c292-7fd52ddb202e"
      },
      "execution_count": 11,
      "outputs": [
        {
          "output_type": "stream",
          "name": "stdout",
          "text": [
            "[32.0, 68.0, 86.0]\n"
          ]
        }
      ]
    },
    {
      "cell_type": "markdown",
      "source": [
        "Question 10.  Create a Python program that uses `filter()` to remove all the vowels from a given string."
      ],
      "metadata": {
        "id": "l4QrkHJh03HJ"
      }
    },
    {
      "cell_type": "code",
      "source": [
        "def remove_vowels(string):\n",
        "    vowels = 'aeiouAEIOU'\n",
        "    return ''.join(filter(lambda char: char not in vowels, string))\n",
        "print(remove_vowels(\"Hello World\"))"
      ],
      "metadata": {
        "colab": {
          "base_uri": "https://localhost:8080/"
        },
        "id": "a8xH_KUS09tx",
        "outputId": "105cd4c4-2286-4403-c56a-f1909c50da2f"
      },
      "execution_count": 12,
      "outputs": [
        {
          "output_type": "stream",
          "name": "stdout",
          "text": [
            "Hll Wrld\n"
          ]
        }
      ]
    },
    {
      "cell_type": "markdown",
      "source": [
        "Question 11. Write a Python program, which returns a list with 2-tuples. Each tuple consists of the order number and the\n",
        "product of the price per item and the quantity. The product should be increased by 10,- € if the value of the\n",
        "order is smaller than 100,00 €.\n",
        "\n",
        "Write a Python program using lambda and map"
      ],
      "metadata": {
        "id": "ShNYa0me1GuH"
      }
    },
    {
      "cell_type": "code",
      "source": [
        "orders = [\n",
        "    [1, 20.0, 4],  # Order total = 20 * 4 = 80, which is < 100, so +10 => 90\n",
        "    [2, 50.0, 2],  # Order total = 50 * 2 = 100, no extra charge\n",
        "    [3, 15.0, 5],  # Order total = 15 * 5 = 75, which is < 100, so +10 => 85\n",
        "    [4, 100.0, 1]  # Order total = 100 * 1 = 100, no extra charge\n",
        "    ]\n",
        "\n",
        "calculate_order = lambda order: (\n",
        "    order[0],\n",
        "    order[1] * order[2] + (10 if order[1] * order[2] < 100 else 0)\n",
        ")\n",
        "result = list(map(calculate_order, orders))\n",
        "\n",
        "print(result)\n"
      ],
      "metadata": {
        "colab": {
          "base_uri": "https://localhost:8080/"
        },
        "id": "LAYfC2bc1V2C",
        "outputId": "e1483a90-f474-4cde-8fdd-e52e364f4910"
      },
      "execution_count": 13,
      "outputs": [
        {
          "output_type": "stream",
          "name": "stdout",
          "text": [
            "[(1, 90.0), (2, 100.0), (3, 85.0), (4, 100.0)]\n"
          ]
        }
      ]
    }
  ]
}